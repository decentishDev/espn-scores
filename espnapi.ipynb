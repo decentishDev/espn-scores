{
 "cells": [
  {
   "cell_type": "code",
   "execution_count": 3,
   "metadata": {},
   "outputs": [
    {
     "data": {
      "text/html": [
       "<img src=\"https://a.espncdn.com/i/teamlogos/leagues/500/nba.png\"/>"
      ],
      "text/plain": [
       "<IPython.core.display.Image object>"
      ]
     },
     "execution_count": 3,
     "metadata": {},
     "output_type": "execute_result"
    }
   ],
   "source": [
    "import requests\n",
    "import pandas as pd\n",
    "from datetime import datetime, timedelta\n",
    "from IPython.display import Image\n",
    "\n",
    "NBA_SCORES_URL = \"https://site.api.espn.com/apis/site/v2/sports/basketball/nba/scoreboard\"\n",
    "\n",
    "def get_nba_results():\n",
    "    yesterday = datetime.now() - timedelta(days=1)\n",
    "    response = requests.get(f\"{NBA_SCORES_URL}?dates={yesterday.strftime('%Y%m%d')}\")\n",
    "    if response.status_code != 200:\n",
    "        print(\"Failed to retrieve data\")\n",
    "        return None\n",
    "    \n",
    "    data = response.json()\n",
    "    games = data.get(\"events\", [])\n",
    "    logo_url = data[\"leagues\"][0][\"logos\"][0][\"href\"]\n",
    "    \n",
    "    results = []\n",
    "    for game in games:\n",
    "        game_date = game.get(\"date\", \"N/A\")\n",
    "        if game_date != \"N/A\":\n",
    "            game_datetime = datetime.strptime(game_date, \"%Y-%m-%dT%H:%MZ\") - timedelta(hours=5)\n",
    "            readable_date = game_datetime.strftime(\"%B %d, %Y\")\n",
    "        else:\n",
    "            readable_date = \"N/A\"\n",
    "        \n",
    "        home_team = game[\"competitions\"][0][\"competitors\"][0][\"team\"][\"displayName\"]\n",
    "        home_score = game[\"competitions\"][0][\"competitors\"][0].get(\"score\", \"N/A\")\n",
    "        away_team = game[\"competitions\"][0][\"competitors\"][1][\"team\"][\"displayName\"]\n",
    "        away_score = game[\"competitions\"][0][\"competitors\"][1].get(\"score\", \"N/A\")\n",
    "        \n",
    "        winner = None\n",
    "        if home_score != \"N/A\" and away_score != \"N/A\":\n",
    "            if int(home_score) > int(away_score):\n",
    "                winner = home_team\n",
    "            elif int(away_score) > int(home_score):\n",
    "                winner = away_team\n",
    "        \n",
    "        game_info = {\n",
    "            \"Date\": readable_date,\n",
    "            \"Home Team\": home_team,\n",
    "            \"Home Score\": home_score,\n",
    "            \"Away Team\": away_team,\n",
    "            \"Away Score\": away_score,\n",
    "            \"Winner\": winner\n",
    "        }\n",
    "        results.append(game_info)\n",
    "    \n",
    "    return pd.DataFrame(results), logo_url\n",
    "\n",
    "def highlight_winner(row):\n",
    "    styles = [''] * len(row)\n",
    "    \n",
    "    if row['Home Score'] != \"N/A\" and row['Away Score'] != \"N/A\":\n",
    "        if int(row['Home Score']) > int(row['Away Score']):\n",
    "            styles[row.index.get_loc('Home Team')] = 'background-color: green'\n",
    "            styles[row.index.get_loc('Home Score')] = 'background-color: green'\n",
    "        elif int(row['Away Score']) > int(row['Home Score']):\n",
    "            styles[row.index.get_loc('Away Team')] = 'background-color: green'\n",
    "            styles[row.index.get_loc('Away Score')] = 'background-color: green'\n",
    "    \n",
    "    return styles\n",
    "\n",
    "df, logo_url = get_nba_results()\n",
    "\n",
    "df = df.drop(columns=['Winner'])\n",
    "\n",
    "df.style.apply(highlight_winner, axis=1)\n",
    "\n",
    "Image(url=logo_url)\n"
   ]
  }
 ],
 "metadata": {
  "kernelspec": {
   "display_name": "base",
   "language": "python",
   "name": "python3"
  },
  "language_info": {
   "codemirror_mode": {
    "name": "ipython",
    "version": 3
   },
   "file_extension": ".py",
   "mimetype": "text/x-python",
   "name": "python",
   "nbconvert_exporter": "python",
   "pygments_lexer": "ipython3",
   "version": "3.12.4"
  }
 },
 "nbformat": 4,
 "nbformat_minor": 2
}
